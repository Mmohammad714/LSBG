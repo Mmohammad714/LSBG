{
 "cells": [
  {
   "cell_type": "code",
   "execution_count": 59,
   "metadata": {},
   "outputs": [],
   "source": [
    "import numpy as np\n",
    "import cmath\n",
    "import matplotlib.pyplot as plt\n",
    "\n",
    "class Ellipsoid (object):\n",
    "    def __init__ ( self, A,B,C ):\n",
    "        self.A = A\n",
    "        self.B = B\n",
    "        self.C = C\n",
    "        \n",
    "    \n",
    "    def centralSB (self,phi,theta): # calculated the Central SB of our galaxy \n",
    "        v = np.array([np.sin(theta)*np.cos(phi),np.sin(theta)*np.sin(phi),np.cos(theta)])\n",
    "        full_length = 2/((v[0]**2/self.A**2)+(v[1]**2/self.B**2)+(v[2]**2/self.C**2))\n",
    "        return full_length \n",
    "    \n",
    "    def effSB (self,phi,theta): # calculates the effective SB of our galaxy\n",
    "        C1 = (self.A**2 * (np.cos(phi)**2 + np.cos(theta)**2 * np.sin(phi)**2) + \n",
    "            self.B**2 * (np.sin(phi)**2 + np.cos(theta)**2 * np.cos(phi)**2)+ \n",
    "            self.C**2 * np.sin(theta))\n",
    "        C0 = (self.A**2 * self.C**2 * np.sin(theta)**2 * np.cos(phi)**2 + \n",
    "            self.B**2 * self.C**2 * np.sin(theta)**2 * np.sin(phi)**2 + \n",
    "            self.A**2 * self.B**2 * np.cos(theta)**2)\n",
    "        \n",
    "        \n",
    "        d = (C1**2) - (4*C0) \n",
    "        b1,b2 = np.sqrt((-C1-np.sqrt(d))/-2) , np.sqrt((-C1+np.sqrt(d))/-2) # only the real positive values matter\n",
    "        \n",
    "        \n",
    "        a_val = np.max([b1,b2],axis=0) \n",
    "        b_val = np.min([b1,b2],axis=0)\n",
    "        \n",
    "        ba_ratio = b_val/a_val\n",
    "        \n",
    "        pro_area = np.pi * a_val * b_val # projected area of the ellipse \n",
    "        return ba_ratio,pro_area\n",
    "    \n",
    "    \n",
    "    \n",
    "    \n",
    "    \n",
    "    \n",
    "    \n",
    "\n",
    "    \n",
    "    \n",
    "class Ellipsoid1 (object):\n",
    "    def __init__ ( self,B,C ):\n",
    "        self.B = B\n",
    "        self.C = C\n",
    "    \n",
    "    \n",
    "    \n",
    "    \n",
    "    def effSB2 (self,phi,theta): # this will show the encompass the intrinsic axis ratios B/A and C/A\n",
    "        C1 = ((np.cos(phi)**2 + np.cos(theta)**2 * np.sin(phi)**2) + \n",
    "            self.B**2 * (np.sin(phi)**2 + np.cos(theta)**2 * np.cos(phi)**2)+ \n",
    "            self.C**2 * np.sin(theta))\n",
    "        C0 = (self.C**2 * np.sin(theta)**2 * np.cos(phi)**2 + \n",
    "            self.B**2 * self.C**2 * np.sin(theta)**2 * np.sin(phi)**2 + self.B**2 * np.cos(theta)**2)\n",
    "        \n",
    "        \n",
    "        d = (C1**2) - (4*C0)\n",
    "        print(C1-cmath.sqrt(d))\n",
    "        b1,b2 = np.sqrt((-C1-np.sqrt(d))/-2) , np.sqrt((-C1+np.sqrt(d))/-2)\n",
    "        \n",
    "        a_val = np.max([b1,b2],axis=0)\n",
    "        b_val = np.min([b1,b2],axis=0)\n",
    "        pro_area = np.pi * a_val * b_val\n",
    "        return a_val,b_val,pro_area\n",
    "    \n",
    "    def obs_ratio (self,phi,theta):\n",
    "        C1 = ((np.cos(phi)**2 + np.cos(theta)**2 * np.sin(phi)**2) + \n",
    "            self.B**2 * (np.sin(phi)**2 + np.cos(theta)**2 * np.cos(phi)**2)+ \n",
    "            self.C**2 * np.sin(theta))\n",
    "        C0 = (self.C**2 * np.sin(theta)**2 * np.cos(phi)**2 + \n",
    "            self.B**2 * self.C**2 * np.sin(theta)**2 * np.sin(phi)**2 + self.B**2 * np.cos(theta)**2)\n",
    "        \n",
    "        h = np.sqrt((C1-2*np.sqrt(C0))/(C1+2*np.sqrt(C0)))\n",
    "        \n",
    "        ba_ratio = (1-h)/(1+h)\n",
    "        \n",
    "        return ba_ratio\n",
    "        "
   ]
  },
  {
   "cell_type": "code",
   "execution_count": 44,
   "metadata": {},
   "outputs": [
    {
     "data": {
      "text/plain": [
       "array([2, 4])"
      ]
     },
     "execution_count": 44,
     "metadata": {},
     "output_type": "execute_result"
    }
   ],
   "source": [
    "b1 = np.array([1,2])\n",
    "b2 = np.array([3,4])\n",
    "np.max([b1,b2],axis=1)\n"
   ]
  },
  {
   "cell_type": "code",
   "execution_count": 2,
   "metadata": {},
   "outputs": [],
   "source": [
    "ell1 = Ellipsoid1(.7,.5)"
   ]
  },
  {
   "cell_type": "code",
   "execution_count": 3,
   "metadata": {},
   "outputs": [
    {
     "name": "stdout",
     "output_type": "stream",
     "text": [
      "(0.9799999999999998+0j)\n",
      "(0.4999999999999999+0j)\n",
      "(0.5+0j)\n"
     ]
    }
   ],
   "source": [
    "dum1 = ell1.effSB2(np.pi/2,0),ell1.effSB2(np.pi/2,np.pi/2),ell1.effSB2(0,np.pi/2)"
   ]
  },
  {
   "cell_type": "code",
   "execution_count": 4,
   "metadata": {},
   "outputs": [
    {
     "name": "stdout",
     "output_type": "stream",
     "text": [
      "((1.0, 0.7, 2.199114857512855), (0.7000000000000001, 0.49999999999999994, 1.0995574287564274), (1.0, 0.5, 1.5707963267948966))\n"
     ]
    }
   ],
   "source": [
    "print(dum1)"
   ]
  },
  {
   "cell_type": "code",
   "execution_count": 5,
   "metadata": {},
   "outputs": [],
   "source": [
    "test = ell1.obs_ratio(1.5,1.5)"
   ]
  },
  {
   "cell_type": "code",
   "execution_count": 6,
   "metadata": {},
   "outputs": [
    {
     "name": "stdout",
     "output_type": "stream",
     "text": [
      "0.7158172423852314\n"
     ]
    }
   ],
   "source": [
    "print(test)"
   ]
  },
  {
   "cell_type": "code",
   "execution_count": null,
   "metadata": {},
   "outputs": [],
   "source": []
  },
  {
   "cell_type": "code",
   "execution_count": 7,
   "metadata": {},
   "outputs": [],
   "source": [
    "ell = Ellipsoid(2,.7,.5)"
   ]
  },
  {
   "cell_type": "code",
   "execution_count": 8,
   "metadata": {},
   "outputs": [
    {
     "name": "stdout",
     "output_type": "stream",
     "text": [
      "(0.9799999999999995+0j)\n",
      "(0.4999999999999999+0j)\n",
      "(0.5+0j)\n"
     ]
    }
   ],
   "source": [
    "dum = ell.effSB(np.pi/2,0),ell.effSB(np.pi/2,np.pi/2),ell.effSB(0,np.pi/2)"
   ]
  },
  {
   "cell_type": "code",
   "execution_count": 9,
   "metadata": {},
   "outputs": [
    {
     "name": "stdout",
     "output_type": "stream",
     "text": [
      "((0.3499999999999999,), (0.7142857142857142,), (0.25,))\n"
     ]
    }
   ],
   "source": [
    "print(dum)"
   ]
  },
  {
   "cell_type": "code",
   "execution_count": null,
   "metadata": {},
   "outputs": [],
   "source": []
  },
  {
   "cell_type": "code",
   "execution_count": 82,
   "metadata": {},
   "outputs": [
    {
     "name": "stdout",
     "output_type": "stream",
     "text": [
      "[4.44209023 1.74830315 3.34532222 ... 4.02056028 1.16483014 0.54319266]\n"
     ]
    }
   ],
   "source": [
    "phi = np.random.uniform(0,2*np.pi,10000)\n",
    "nu = np.random.uniform(0,1,10000)\n",
    "theta = np.arccos(2*nu-1)\n",
    "\n",
    "\n",
    "print(phi)"
   ]
  },
  {
   "cell_type": "code",
   "execution_count": 64,
   "metadata": {},
   "outputs": [
    {
     "name": "stdout",
     "output_type": "stream",
     "text": [
      "[2. 2. 2. ... 2. 2. 2.]\n"
     ]
    }
   ],
   "source": [
    "ell = Ellipsoid(1,1,1)\n",
    "dumm = ell.centralSB(phi,theta)\n",
    "print(dumm)"
   ]
  },
  {
   "cell_type": "code",
   "execution_count": 67,
   "metadata": {},
   "outputs": [
    {
     "data": {
      "text/plain": [
       "(array([0., 0., 0., 0., 0., 1., 0., 0., 0., 0.]),\n",
       " array([1.5, 1.6, 1.7, 1.8, 1.9, 2. , 2.1, 2.2, 2.3, 2.4, 2.5]),\n",
       " <a list of 10 Patch objects>)"
      ]
     },
     "execution_count": 67,
     "metadata": {},
     "output_type": "execute_result"
    },
    {
     "data": {
      "image/png": "[encoded data removed]",
      "text/plain": [
       "<Figure size 432x288 with 1 Axes>"
      ]
     },
     "metadata": {
      "needs_background": "light"
     },
     "output_type": "display_data"
    }
   ],
   "source": [
    "plt.hist(dumm[0])"
   ]
  },
  {
   "cell_type": "code",
   "execution_count": 65,
   "metadata": {},
   "outputs": [
    {
     "name": "stdout",
     "output_type": "stream",
     "text": [
      "(array([0.6154718 , 0.68404697, 0.62924697, ..., 0.96187897, 0.68258657,\n",
      "       0.64941211]), array([3.14159265, 3.14159265, 3.14159265, ..., 3.14159265, 3.14159265,\n",
      "       3.14159265]))\n"
     ]
    }
   ],
   "source": [
    "dumm1 = ell.effSB(phi,theta)\n",
    "print(dumm1)"
   ]
  },
  {
   "cell_type": "code",
   "execution_count": 66,
   "metadata": {},
   "outputs": [
    {
     "data": {
      "text/plain": [
       "(array([2930., 1298.,  982.,  817.,  786.,  692.,  681.,  665.,  577.,\n",
       "         572.]),\n",
       " array([0.6096118 , 0.64864938, 0.68768696, 0.72672454, 0.76576213,\n",
       "        0.80479971, 0.84383729, 0.88287487, 0.92191245, 0.96095004,\n",
       "        0.99998762]),\n",
       " <a list of 10 Patch objects>)"
      ]
     },
     "execution_count": 66,
     "metadata": {},
     "output_type": "execute_result"
    },
    {
     "data": {
      "image/png": "[encoded data removed]",
      "text/plain": [
       "<Figure size 432x288 with 1 Axes>"
      ]
     },
     "metadata": {
      "needs_background": "light"
     },
     "output_type": "display_data"
    }
   ],
   "source": [
    "plt.hist(dumm1[0])"
   ]
  },
  {
   "cell_type": "code",
   "execution_count": 68,
   "metadata": {},
   "outputs": [
    {
     "data": {
      "text/plain": [
       "(1.0, 3.141592653589793)"
      ]
     },
     "execution_count": 68,
     "metadata": {},
     "output_type": "execute_result"
    }
   ],
   "source": [
    "ell.effSB(0,0)"
   ]
  },
  {
   "cell_type": "code",
   "execution_count": 69,
   "metadata": {},
   "outputs": [
    {
     "data": {
      "text/plain": [
       "(1.0, 3.141592653589793)"
      ]
     },
     "execution_count": 69,
     "metadata": {},
     "output_type": "execute_result"
    }
   ],
   "source": [
    "ell.effSB(np.pi/2,np.pi/2)"
   ]
  },
  {
   "cell_type": "code",
   "execution_count": 75,
   "metadata": {},
   "outputs": [],
   "source": [
    "x = np.array([0,np.pi/2])"
   ]
  },
  {
   "cell_type": "code",
   "execution_count": 76,
   "metadata": {},
   "outputs": [
    {
     "data": {
      "text/plain": [
       "(array([1., 1.]), array([3.14159265, 3.14159265]))"
      ]
     },
     "execution_count": 76,
     "metadata": {},
     "output_type": "execute_result"
    }
   ],
   "source": [
    "ell.effSB(x,x)"
   ]
  },
  {
   "cell_type": "code",
   "execution_count": 83,
   "metadata": {},
   "outputs": [],
   "source": [
    "ell1 = Ellipsoid1(1,1)"
   ]
  },
  {
   "cell_type": "code",
   "execution_count": 84,
   "metadata": {},
   "outputs": [],
   "source": [
    "run = ell1.obs_ratio(phi,theta)"
   ]
  },
  {
   "cell_type": "code",
   "execution_count": 85,
   "metadata": {},
   "outputs": [
    {
     "data": {
      "text/plain": [
       "(array([2923., 1254.,  990.,  829.,  738.,  706.,  690.,  669.,  628.,\n",
       "         573.]),\n",
       " array([0.6096118 , 0.64864128, 0.68767075, 0.72670023, 0.76572971,\n",
       "        0.80475919, 0.84378867, 0.88281815, 0.92184763, 0.96087711,\n",
       "        0.99990659]),\n",
       " <a list of 10 Patch objects>)"
      ]
     },
     "execution_count": 85,
     "metadata": {},
     "output_type": "execute_result"
    },
    {
     "data": {
      "image/png": "[encoded data removed]",
      "text/plain": [
       "<Figure size 432x288 with 1 Axes>"
      ]
     },
     "metadata": {
      "needs_background": "light"
     },
     "output_type": "display_data"
    }
   ],
   "source": [
    "plt.hist(run)"
   ]
  },
  {
   "cell_type": "code",
   "execution_count": null,
   "metadata": {},
   "outputs": [],
   "source": []
  }
 ],
 "metadata": {
  "kernelspec": {
   "display_name": "Python 3",
   "language": "python",
   "name": "python3"
  },
  "language_info": {
   "codemirror_mode": {
    "name": "ipython",
    "version": 3
   },
   "file_extension": ".py",
   "mimetype": "text/x-python",
   "name": "python",
   "nbconvert_exporter": "python",
   "pygments_lexer": "ipython3",
   "version": "3.7.4"
  }
 },
 "nbformat": 4,
 "nbformat_minor": 2
}
