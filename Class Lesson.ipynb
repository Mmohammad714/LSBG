{
 "cells": [
  {
   "cell_type": "code",
   "execution_count": 59,
   "metadata": {},
   "outputs": [],
   "source": [
    "import numpy as np\n",
    "import cmath\n",
    "import matplotlib.pyplot as plt\n",
    "\n",
    "class Ellipsoid (object):\n",
    "    def __init__ ( self, A,B,C ):\n",
    "        self.A = A\n",
    "        self.B = B\n",
    "        self.C = C\n",
    "        \n",
    "    \n",
    "    def centralSB (self,phi,theta): # calculated the Central SB of our galaxy \n",
    "        v = np.array([np.sin(theta)*np.cos(phi),np.sin(theta)*np.sin(phi),np.cos(theta)])\n",
    "        full_length = 2/((v[0]**2/self.A**2)+(v[1]**2/self.B**2)+(v[2]**2/self.C**2))\n",
    "        return full_length \n",
    "    \n",
    "    def effSB (self,phi,theta): # calculates the effective SB of our galaxy\n",
    "        C1 = (self.A**2 * (np.cos(phi)**2 + np.cos(theta)**2 * np.sin(phi)**2) + \n",
    "            self.B**2 * (np.sin(phi)**2 + np.cos(theta)**2 * np.cos(phi)**2)+ \n",
    "            self.C**2 * np.sin(theta))\n",
    "        C0 = (self.A**2 * self.C**2 * np.sin(theta)**2 * np.cos(phi)**2 + \n",
    "            self.B**2 * self.C**2 * np.sin(theta)**2 * np.sin(phi)**2 + \n",
    "            self.A**2 * self.B**2 * np.cos(theta)**2)\n",
    "        \n",
    "        \n",
    "        d = (C1**2) - (4*C0) \n",
    "        b1,b2 = np.sqrt((-C1-np.sqrt(d))/-2) , np.sqrt((-C1+np.sqrt(d))/-2) # only the real positive values matter\n",
    "        \n",
    "        \n",
    "        a_val = np.max([b1,b2],axis=0) \n",
    "        b_val = np.min([b1,b2],axis=0)\n",
    "        \n",
    "        ba_ratio = b_val/a_val\n",
    "        \n",
    "        pro_area = np.pi * a_val * b_val # projected area of the ellipse \n",
    "        return ba_ratio,pro_area\n",
    "    \n",
    "    \n",
    "    \n",
    "    \n",
    "    \n",
    "    \n",
    "    \n",
    "\n",
    "    \n",
    "    \n",
    "class Ellipsoid1 (object):\n",
    "    def __init__ ( self,B,C ):\n",
    "        self.B = B\n",
    "        self.C = C\n",
    "    \n",
    "    \n",
    "    \n",
    "    \n",
    "    def effSB2 (self,phi,theta): # this will show the encompass the intrinsic axis ratios B/A and C/A\n",
    "        C1 = ((np.cos(phi)**2 + np.cos(theta)**2 * np.sin(phi)**2) + \n",
    "            self.B**2 * (np.sin(phi)**2 + np.cos(theta)**2 * np.cos(phi)**2)+ \n",
    "            self.C**2 * np.sin(theta))\n",
    "        C0 = (self.C**2 * np.sin(theta)**2 * np.cos(phi)**2 + \n",
    "            self.B**2 * self.C**2 * np.sin(theta)**2 * np.sin(phi)**2 + self.B**2 * np.cos(theta)**2)\n",
    "        \n",
    "        \n",
    "        d = (C1**2) - (4*C0)\n",
    "        print(C1-cmath.sqrt(d))\n",
    "        b1,b2 = np.sqrt((-C1-np.sqrt(d))/-2) , np.sqrt((-C1+np.sqrt(d))/-2)\n",
    "        \n",
    "        a_val = np.max([b1,b2],axis=0)\n",
    "        b_val = np.min([b1,b2],axis=0)\n",
    "        pro_area = np.pi * a_val * b_val\n",
    "        return a_val,b_val,pro_area\n",
    "    \n",
    "    def obs_ratio (self,phi,theta):\n",
    "        C1 = ((np.cos(phi)**2 + np.cos(theta)**2 * np.sin(phi)**2) + \n",
    "            self.B**2 * (np.sin(phi)**2 + np.cos(theta)**2 * np.cos(phi)**2)+ \n",
    "            self.C**2 * np.sin(theta))\n",
    "        C0 = (self.C**2 * np.sin(theta)**2 * np.cos(phi)**2 + \n",
    "            self.B**2 * self.C**2 * np.sin(theta)**2 * np.sin(phi)**2 + self.B**2 * np.cos(theta)**2)\n",
    "        \n",
    "        h = np.sqrt((C1-2*np.sqrt(C0))/(C1+2*np.sqrt(C0)))\n",
    "        \n",
    "        ba_ratio = (1-h)/(1+h)\n",
    "        \n",
    "        return ba_ratio\n",
    "        "
   ]
  },
  {
   "cell_type": "code",
   "execution_count": 96,
   "metadata": {},
   "outputs": [
    {
     "name": "stdout",
     "output_type": "stream",
     "text": [
      "[3.93205957 4.12616399 2.87400731 ... 4.08315456 0.28897214 3.97718224]\n"
     ]
    }
   ],
   "source": [
    "phi = np.random.uniform(0,2*np.pi,10000)\n",
    "nu = np.random.uniform(0,1,10000)\n",
    "theta = np.arccos(2*nu-1)\n",
    "\n",
    "\n",
    "print(phi)"
   ]
  },
  {
   "cell_type": "code",
   "execution_count": 98,
   "metadata": {},
   "outputs": [
    {
     "name": "stdout",
     "output_type": "stream",
     "text": [
      "[2. 2. 2. ... 2. 2. 2.]\n"
     ]
    },
    {
     "data": {
      "image/png": "[encoded data removed]",
      "text/plain": [
       "<Figure size 432x288 with 1 Axes>"
      ]
     },
     "metadata": {
      "needs_background": "light"
     },
     "output_type": "display_data"
    }
   ],
   "source": [
    "ell = Ellipsoid(1,1,1)\n",
    "dumm = ell.centralSB(phi,theta)\n",
    "print(dumm)\n",
    "plt.hist(dumm[0])\n",
    "plt.show()"
   ]
  },
  {
   "cell_type": "code",
   "execution_count": 97,
   "metadata": {},
   "outputs": [
    {
     "name": "stdout",
     "output_type": "stream",
     "text": [
      "(array([0.96782657, 0.90798435, 0.84518933, ..., 0.82197384, 0.64598085,\n",
      "       0.72519947]), array([3.14159265, 3.14159265, 3.14159265, ..., 3.14159265, 3.14159265,\n",
      "       3.14159265]))\n"
     ]
    },
    {
     "data": {
      "image/png": "[encoded data removed]",
      "text/plain": [
       "<Figure size 432x288 with 1 Axes>"
      ]
     },
     "metadata": {
      "needs_background": "light"
     },
     "output_type": "display_data"
    }
   ],
   "source": [
    "dumm1 = ell.effSB(phi,theta)\n",
    "print(dumm1)\n",
    "plt.hist(dumm1[0])\n",
    "plt.show()"
   ]
  },
  {
   "cell_type": "code",
   "execution_count": 99,
   "metadata": {},
   "outputs": [
    {
     "name": "stdout",
     "output_type": "stream",
     "text": [
      "[0.96782657 0.90798435 0.84518933 ... 0.82197384 0.64598085 0.72519947]\n"
     ]
    },
    {
     "data": {
      "image/png": "[encoded data removed]",
      "text/plain": [
       "<Figure size 432x288 with 1 Axes>"
      ]
     },
     "metadata": {
      "needs_background": "light"
     },
     "output_type": "display_data"
    }
   ],
   "source": [
    "ell1 = Ellipsoid1(1,1)\n",
    "run = ell1.obs_ratio(phi,theta)\n",
    "print(run)\n",
    "plt.hist(run)\n",
    "plt.show()"
   ]
  },
  {
   "cell_type": "code",
   "execution_count": null,
   "metadata": {},
   "outputs": [],
   "source": []
  },
  {
   "cell_type": "code",
   "execution_count": null,
   "metadata": {},
   "outputs": [],
   "source": []
  },
  {
   "cell_type": "code",
   "execution_count": null,
   "metadata": {},
   "outputs": [],
   "source": []
  },
  {
   "cell_type": "code",
   "execution_count": null,
   "metadata": {},
   "outputs": [],
   "source": []
  },
  {
   "cell_type": "code",
   "execution_count": null,
   "metadata": {},
   "outputs": [],
   "source": []
  },
  {
   "cell_type": "code",
   "execution_count": null,
   "metadata": {},
   "outputs": [],
   "source": []
  },
  {
   "cell_type": "code",
   "execution_count": null,
   "metadata": {},
   "outputs": [],
   "source": []
  },
  {
   "cell_type": "code",
   "execution_count": null,
   "metadata": {},
   "outputs": [],
   "source": []
  },
  {
   "cell_type": "code",
   "execution_count": null,
   "metadata": {},
   "outputs": [],
   "source": []
  },
  {
   "cell_type": "code",
   "execution_count": null,
   "metadata": {},
   "outputs": [],
   "source": []
  },
  {
   "cell_type": "code",
   "execution_count": null,
   "metadata": {},
   "outputs": [],
   "source": []
  },
  {
   "cell_type": "code",
   "execution_count": null,
   "metadata": {},
   "outputs": [],
   "source": []
  },
  {
   "cell_type": "code",
   "execution_count": null,
   "metadata": {},
   "outputs": [],
   "source": []
  },
  {
   "cell_type": "code",
   "execution_count": null,
   "metadata": {},
   "outputs": [],
   "source": []
  },
  {
   "cell_type": "code",
   "execution_count": null,
   "metadata": {},
   "outputs": [],
   "source": []
  },
  {
   "cell_type": "code",
   "execution_count": null,
   "metadata": {},
   "outputs": [],
   "source": []
  },
  {
   "cell_type": "code",
   "execution_count": null,
   "metadata": {},
   "outputs": [],
   "source": []
  },
  {
   "cell_type": "code",
   "execution_count": null,
   "metadata": {},
   "outputs": [],
   "source": []
  },
  {
   "cell_type": "code",
   "execution_count": null,
   "metadata": {},
   "outputs": [],
   "source": []
  },
  {
   "cell_type": "code",
   "execution_count": null,
   "metadata": {},
   "outputs": [],
   "source": []
  }
 ],
 "metadata": {
  "kernelspec": {
   "display_name": "Python 3",
   "language": "python",
   "name": "python3"
  },
  "language_info": {
   "codemirror_mode": {
    "name": "ipython",
    "version": 3
   },
   "file_extension": ".py",
   "mimetype": "text/x-python",
   "name": "python",
   "nbconvert_exporter": "python",
   "pygments_lexer": "ipython3",
   "version": "3.7.4"
  }
 },
 "nbformat": 4,
 "nbformat_minor": 2
}
